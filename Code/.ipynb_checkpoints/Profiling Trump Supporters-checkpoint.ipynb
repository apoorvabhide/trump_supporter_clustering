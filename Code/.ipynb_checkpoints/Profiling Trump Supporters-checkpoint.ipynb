{
 "cells": [
  {
   "cell_type": "markdown",
   "metadata": {},
   "source": [
    "This is my attempt to cluster Trump supporters to try and understand what _types_ of Trump supporters exist. This is supposed to be a companion to my answer on Quora to the question \"What types of people make up the largest portion of Trump supporters?\"\n",
    "\n",
    "As always, the code is hidden by default. You can click the beautiful button below to view it."
   ]
  },
  {
   "cell_type": "code",
   "execution_count": 1,
   "metadata": {},
   "outputs": [
    {
     "data": {
      "text/html": [
       "<script>  \n",
       "code_show=true; \n",
       "function code_toggle() {\n",
       "  if (code_show){\n",
       "    $('div.input').hide();\n",
       "  } else {\n",
       "    $('div.input').show();\n",
       "  }\n",
       "  code_show = !code_show\n",
       "}  \n",
       "$( document ).ready(code_toggle);\n",
       "</script>\n",
       "  <form action=\"javascript:code_toggle()\">\n",
       "    <input type=\"submit\" value=\"I want to look at the code.\">\n",
       " </form>"
      ]
     },
     "metadata": {},
     "output_type": "display_data"
    }
   ],
   "source": [
    "library(IRdisplay)\n",
    "\n",
    "display_html(\n",
    "'<script>  \n",
    "code_show=true; \n",
    "function code_toggle() {\n",
    "  if (code_show){\n",
    "    $(\\'div.input\\').hide();\n",
    "  } else {\n",
    "    $(\\'div.input\\').show();\n",
    "  }\n",
    "  code_show = !code_show\n",
    "}  \n",
    "$( document ).ready(code_toggle);\n",
    "</script>\n",
    "  <form action=\"javascript:code_toggle()\">\n",
    "    <input type=\"submit\" value=\"I want to look at the code.\">\n",
    " </form>'\n",
    ")"
   ]
  },
  {
   "cell_type": "code",
   "execution_count": 2,
   "metadata": {},
   "outputs": [
    {
     "name": "stderr",
     "output_type": "stream",
     "text": [
      "\n",
      "Attaching package: ‘dplyr’\n",
      "\n",
      "\n",
      "The following objects are masked from ‘package:stats’:\n",
      "\n",
      "    filter, lag\n",
      "\n",
      "\n",
      "The following objects are masked from ‘package:base’:\n",
      "\n",
      "    intersect, setdiff, setequal, union\n",
      "\n",
      "\n"
     ]
    }
   ],
   "source": [
    "library(haven)\n",
    "library(dplyr)\n",
    "library(ggplot2)\n",
    "library(cluster)\n",
    "library(reshape2)\n",
    "setwd(\"~/Documents/Writing/Trump Supporter/\")"
   ]
  },
  {
   "cell_type": "markdown",
   "metadata": {},
   "source": [
    "I'm using the CCES 2018 dataset, primarily because of the high number of respondents. The guide to this dataset (including the list of columns and options) can be found [here](https://dataverse.harvard.edu/file.xhtml?persistentId=doi:10.7910/DVN/ZSBZ7K/WZWCZ1&version=6.0).\n",
    "\n",
    "## Trump supporters\n",
    "Of course, a definition of \"Trump supporter\" is required. If there was a feelings thermometer rating to go with, that would be our clear indicator, but the CCES 2018 doesn't have that. So, our \"Trump supporters\" will be people who think Trump is doing a great job. The CCES 2018 asks: \"Do you approve or disapprove of the way Donald Trump is handling his job as President?\". The people who answer \"Strongly Approve\" to that question are treated here as Trump supporters.\n",
    "\n",
    "### Limitations\n",
    "I'm aware that this is an imperfect definition, because there may be people who approve of the job Pres. Trump is doing but do not \"support\" him in the sense that the question asks. But I'm sticking with it because I think the wealth of responses available in this dataset trumps (ahem) the better idea I might get with a dataset that has more direct feelings about Trump. Also, note the asymmetry in the imperfect definition: \"Trump supporters\" are almost all likely to approve of the job he's doing, even if all those who approve of the job he's doing aren't \"Trump supporters\". Basically, a set of Trump supporters is definitely a _subset_ of my data, so I'm unlikely to be missing any Trump supporters: at worst, I'm classifying some people, who approve of the job he's doing, as people who support him. They can write a blog about it.\n",
    "\n",
    "Still, I'd like to narrow things down, and that's why I'm limiting this definition of \"Trump supporter\" to respondents who \"Strongly Approve\" of the president's job.\n",
    "\n",
    "Here's a rough outline of the methodology:\n",
    "\n",
    "## Methodology\n",
    "\n",
    "1. Separate data into \"profile\" variables and \"opinion\" variables: profile variables tell us about the social and economic identity of the respondents: their age, gender, ethnicity, where they get their news from, whether they're a union member, etc. \"Opinion\" variables tell us about the, spoiler alert, opinions the respondents hold: Do they support banning all abortions? Do they support building a wall? Do they support the tax cuts? etc.\n",
    "\n",
    "2. Cluster the respondents using the \"opinion\" variables, because that can give us the most insight into who they are as Trump supporters. I'll be doing a hierarchical clustering based on gower distance (which, since all the columns here are nominal, is equivalent to the dice coefficient). A much better explanation than I can give is [here](https://online.stat.psu.edu/stat505/lesson/14/14.3) and [here](https://stats.stackexchange.com/questions/55798/what-is-the-optimal-distance-function-for-individuals-when-attributes-are-nomina/55802#55802) and [here](https://stats.stackexchange.com/questions/297121/measures-of-association-between-nominal-variables-with-the-same-categories-pair/297206#297206). Applied here, it's a measure of relative agreement in essence: The gower distance between two respondents (caseid's) in our dataset will be dependent on how many questions they agree on, vs. how many questions they disagree.\n",
    "3. Profile these clusters, using the \"opinion\" as well as \"profile\" variables: essentially, break down the clusters by social identity as well as support for different Trump policies which can give us insight into their beliefs.\n",
    "\n",
    "The idea is to establish clusters of Trump supporters using their political opinions, and then profile them to understand their political as well as social identity."
   ]
  },
  {
   "cell_type": "markdown",
   "metadata": {},
   "source": [
    "First, I'm going to separate out the profile variables, and create a dissimilarity matrix according to gower distance and complete linkage."
   ]
  },
  {
   "cell_type": "code",
   "execution_count": 3,
   "metadata": {},
   "outputs": [],
   "source": [
    "# Load the data and choose required columns\n",
    "cces_ts <- readRDS(\"Data/cces_2018_data.RDS\")\n",
    "cces_profile <- cces_ts %>% select(caseid=caseid,\n",
    "                           birthyr,\n",
    "                           gender,\n",
    "                           sexuality,\n",
    "                           region,\n",
    "                           edloan,\n",
    "                           employ,\n",
    "                           educ,\n",
    "                           race,\n",
    "                           ideo5,\n",
    "                           numchildren,\n",
    "                           pew_churatd,\n",
    "                           pew_bornagain,\n",
    "                           pew_prayer,\n",
    "                           internethome,\n",
    "                           internetwork,\n",
    "                           pid7,\n",
    "                           urbancity,\n",
    "                           nationaleconomy=CC18_301,\n",
    "                           faminc_new,\n",
    "                           newsint,\n",
    "                           postedabtpolitics = CC18_300d_1,\n",
    "                           householdincomelastyear=CC18_302,\n",
    "                           union,\n",
    "                           demideology=CC18_334D,\n",
    "                           investor,\n",
    "                           tvuse=CC18_300_2 ,\n",
    "                           newspaper=CC18_300_3,\n",
    "                           radiouse=CC18_300_4,\n",
    "                           voted2018midterm=CC18_401)\n",
    "cces <- cces_ts %>% select(caseid=caseid,\n",
    "                           trumpapprove=CC18_308a,\n",
    "                           policespending=CC18_426_4,\n",
    "                           alwaysallowabortion=CC18_321a,\n",
    "                           exceptionabortion=CC18_321b,\n",
    "                           allowemployersdenyabortion=CC18_321d,\n",
    "                           allabortionsillegal=CC18_321f,\n",
    "                           borderspendingpluswall=CC18_322a,\n",
    "                           daca=CC18_322b,\n",
    "                           reducelegalimmigration=CC18_322c_new,\n",
    "                           dacawallandreducelegal=CC18_322d_new,\n",
    "                           reentryprison=CC18_322f,\n",
    "                           cutcorporatetax=CC18_325a,\n",
    "                           cuttaxeslt500k=CC18_325e_new,\n",
    "                           cuttaxesgt500k=CC18_325f_new,\n",
    "                           medicareforall=CC18_327a,\n",
    "                           repealobamacare=CC18_327c,\n",
    "                           partialrepeallargeempl=CC18_327d,\n",
    "                           chinatariff=CC18_331a,\n",
    "                           allowkeystone=CC18_332b,\n",
    "                           withdrawparis=CC18_332c,\n",
    "                           withdrawtpp = CC18_332e,\n",
    "                           selfideology=CC18_334A,\n",
    "                           russiacollusion=CC18_335,\n",
    "                           epaco2=CC18_415a,\n",
    "                           environprot = CC18_415d,\n",
    "                           finchoiceact = CC18_416,\n",
    "                           repealcleanpower=CC18_417_a,\n",
    "                           withdrawirandeal=CC18_417_b,\n",
    "                           contactpublicoff = CC18_417a_5,\n",
    "                           muslimban=CC18_417_c,\n",
    "                           blackswithoutfavours=CC18_422e,\n",
    "                           blacksgottenlessthandeserve=CC18_422g,\n",
    "                           blackstryharder=CC18_422h,\n",
    "                           whiteprivilege=CC18_422a,\n",
    "                           racismrare = CC18_422b,\n",
    "                           feministreasonable=CC18_422d,\n",
    "                           welfarespend=CC18_426_1,\n",
    "                           healthcarespend=CC18_426_2,\n",
    "                           educationspend = CC18_426_3,\n",
    "                           banassault=CC18_320c,\n",
    "                           backgroundchecks=CC18_320a,\n",
    "                           easierconcealed=CC18_320d,\n",
    "                           transban=CC18_417_d,\n",
    "                           trumpapprovepost=CC18_app_dtrmp_post,\n",
    "                           womenunreasonablesexism=CC18_422c) %>% filter(!is.na(trumpapprove),!is.na(trumpapprovepost))\n"
   ]
  },
  {
   "cell_type": "code",
   "execution_count": 4,
   "metadata": {},
   "outputs": [],
   "source": [
    "# Start with people who \"Strongly Approve\" of Trump's job as President.\n",
    "cces <- cces %>% filter(trumpapprove == 2)\n",
    "# colSums(is.na(cces))\n",
    "# Remove all the NAs from these columns - this leaves me with close to 7k responses of Trump supporters.\n",
    "cces <- cces %>% na.exclude()\n",
    "cces_cluster <- cces %>% dplyr::select(-trumpapprove) %>% \n",
    "  mutate_all(as.character())\n",
    "# Set Case ID as row number so it won't be clustered\n",
    "caseids <- cces$caseid\n",
    "cces_cluster$caseid <- NULL\n",
    "# All of these variables, because they came from a .dta file, are in haven_labelled format. \n",
    "# Making them factors so R can deal with them.\n",
    "for(i in 1:ncol(cces_cluster))\n",
    "{\n",
    "  cces_cluster[,i] <- as_factor(cces_cluster[,i])\n",
    "}\n",
    "\n",
    "cces_cluster1 <- cces_cluster"
   ]
  },
  {
   "cell_type": "markdown",
   "metadata": {},
   "source": [
    "Here's the dendrogram visualising this data. After checking with a few numbers, 4 clusters seems to make the most sense."
   ]
  },
  {
   "cell_type": "code",
   "execution_count": 5,
   "metadata": {},
   "outputs": [
    {
     "data": {
      "image/png": "[encoded data removed]",
      "text/plain": [
       "Plot with title “Cluster Dendrogram”"
      ]
     },
     "metadata": {
      "image/png": {
       "height": 420,
       "width": 420
      }
     },
     "output_type": "display_data"
    }
   ],
   "source": [
    "#Create a distance matrix using gower distance and the given dataset\n",
    "distmatrix <- daisy(x = cces_cluster1,metric = \"gower\")\n",
    "# Plotting the dendogram to see how many clusters. Complete linkage gives the best results.\n",
    "set.seed(72)\n",
    "plot(hclust(distmatrix,method = \"complete\"))\n",
    "set.seed(72)\n",
    "hc <- hclust(distmatrix,method=\"complete\")\n",
    "cces_cluster1$caseid <- caseids"
   ]
  },
  {
   "cell_type": "markdown",
   "metadata": {},
   "source": [
    "Let's check the size of the clusters:"
   ]
  },
  {
   "cell_type": "code",
   "execution_count": 6,
   "metadata": {},
   "outputs": [
    {
     "name": "stderr",
     "output_type": "stream",
     "text": [
      "`summarise()` ungrouping output (override with `.groups` argument)\n",
      "\n"
     ]
    },
    {
     "data": {
      "text/html": [
       "<table>\n",
       "<caption>A tibble: 4 × 3</caption>\n",
       "<thead>\n",
       "\t<tr><th scope=col>ClusterAssigned</th><th scope=col>Responses</th><th scope=col>ResponsesPC</th></tr>\n",
       "\t<tr><th scope=col>&lt;int&gt;</th><th scope=col>&lt;int&gt;</th><th scope=col>&lt;dbl&gt;</th></tr>\n",
       "</thead>\n",
       "<tbody>\n",
       "\t<tr><td>1</td><td>3976</td><td>0.57874818</td></tr>\n",
       "\t<tr><td>2</td><td>1024</td><td>0.14905386</td></tr>\n",
       "\t<tr><td>3</td><td>1389</td><td>0.20218341</td></tr>\n",
       "\t<tr><td>4</td><td> 481</td><td>0.07001456</td></tr>\n",
       "</tbody>\n",
       "</table>\n"
      ],
      "text/latex": [
       "A tibble: 4 × 3\n",
       "\\begin{tabular}{lll}\n",
       " ClusterAssigned & Responses & ResponsesPC\\\\\n",
       " <int> & <int> & <dbl>\\\\\n",
       "\\hline\n",
       "\t 1 & 3976 & 0.57874818\\\\\n",
       "\t 2 & 1024 & 0.14905386\\\\\n",
       "\t 3 & 1389 & 0.20218341\\\\\n",
       "\t 4 &  481 & 0.07001456\\\\\n",
       "\\end{tabular}\n"
      ],
      "text/markdown": [
       "\n",
       "A tibble: 4 × 3\n",
       "\n",
       "| ClusterAssigned &lt;int&gt; | Responses &lt;int&gt; | ResponsesPC &lt;dbl&gt; |\n",
       "|---|---|---|\n",
       "| 1 | 3976 | 0.57874818 |\n",
       "| 2 | 1024 | 0.14905386 |\n",
       "| 3 | 1389 | 0.20218341 |\n",
       "| 4 |  481 | 0.07001456 |\n",
       "\n"
      ],
      "text/plain": [
       "  ClusterAssigned Responses ResponsesPC\n",
       "1 1               3976      0.57874818 \n",
       "2 2               1024      0.14905386 \n",
       "3 3               1389      0.20218341 \n",
       "4 4                481      0.07001456 "
      ]
     },
     "metadata": {},
     "output_type": "display_data"
    }
   ],
   "source": [
    "cces_cluster1$ClusterAssigned <- cutree(hc,k=4)\n",
    "cces_cluster1 %>% group_by(ClusterAssigned) %>% dplyr::summarise(Responses = length(unique(caseid))) %>% \n",
    "  mutate(ResponsesPC=Responses/sum(Responses))"
   ]
  },
  {
   "cell_type": "markdown",
   "metadata": {},
   "source": [
    "It's time to add in all the \"profile\" variables, so we can make sense of the clusters."
   ]
  },
  {
   "cell_type": "code",
   "execution_count": 7,
   "metadata": {},
   "outputs": [
    {
     "name": "stderr",
     "output_type": "stream",
     "text": [
      "Joining, by = \"caseid\"\n",
      "\n"
     ]
    }
   ],
   "source": [
    "# CCES Profile variables\n",
    "cces_profile <- cces_ts %>% select(caseid=caseid,\n",
    "                           birthyr,\n",
    "                           gender,\n",
    "                           sexuality,\n",
    "                           region,\n",
    "                           edloan,\n",
    "                           employ,\n",
    "                           educ,\n",
    "                           race,\n",
    "                           ideo5,\n",
    "                           numchildren,\n",
    "                           pew_churatd,\n",
    "                           pew_bornagain,\n",
    "                           pew_prayer,\n",
    "                           internethome,\n",
    "                           internetwork,\n",
    "                           pid7,\n",
    "                           urbancity,\n",
    "                           nationaleconomy=CC18_301,\n",
    "                           faminc_new,\n",
    "                           newsint,\n",
    "                           postedabtpolitics = CC18_300d_1,\n",
    "                           householdincomelastyear=CC18_302,\n",
    "                           union,\n",
    "                           demideology=CC18_334D,\n",
    "                           investor,\n",
    "                           tvuse=CC18_300_2 ,\n",
    "                           newspaper=CC18_300_3,\n",
    "                           radiouse=CC18_300_4,\n",
    "                           voted2018midterm=CC18_401)\n",
    "for(i in 1:ncol(cces_profile))\n",
    "{\n",
    "  cces_profile[,i] <- as_factor(cces_profile[,i])\n",
    "}\n",
    "cces_cluster2 <- cces_cluster1 %>% mutate(caseid=as.numeric(caseid)) %>% left_join(cces_profile)"
   ]
  },
  {
   "cell_type": "markdown",
   "metadata": {},
   "source": [
    "Now, let's try to understand the clusters better. How are they composed, both in terms of the opinions of people within as well as their demographics?\n",
    "By comparing all the clusters on any given question, we can slowly understand better the themes of what each cluster stands for. \n",
    "For example, here is the support for increasing border spending and building a wall on the Mexican border:"
   ]
  },
  {
   "cell_type": "code",
   "execution_count": 8,
   "metadata": {},
   "outputs": [
    {
     "name": "stderr",
     "output_type": "stream",
     "text": [
      "Joining, by = c(\"Var1\", \"Question\")\n",
      "\n",
      "Joining, by = c(\"Var1\", \"Question\")\n",
      "\n",
      "Joining, by = c(\"Var1\", \"Question\")\n",
      "\n"
     ]
    }
   ],
   "source": [
    "cols <- colnames(cces_cluster2)\n",
    "cols <- cols[!cols %in% c(\"caseid\",\"ClusterAssigned\")]\n",
    "cluster_summary <- function(df,clusterNo)\n",
    "{\n",
    "  clust <- df %>% filter(ClusterAssigned == clusterNo)\n",
    "  responses <- data.frame(stringsAsFactors = F)\n",
    "  for(col in cols)\n",
    "  {\n",
    "    t <- data.frame(table(clust[col]),stringsAsFactors = F) %>% mutate(FreqPC = Freq/sum(Freq),\n",
    "                                                                       Question = col)\n",
    "    responses <- rbind(responses,t)\n",
    "  }\n",
    "  return(responses)\n",
    "}\n",
    "\n",
    "clust1 <- cluster_summary(cces_cluster2,clusterNo = 1) %>% rename(C1Freq=Freq,TrueBelievers=FreqPC)\n",
    "clust2 <- cluster_summary(cces_cluster2,clusterNo = 2) %>% rename(C2Freq=Freq,Conservatives=FreqPC)\n",
    "clust3 <- cluster_summary(cces_cluster2,clusterNo = 3) %>% rename(C3Freq=Freq,SocialConservMod=FreqPC)\n",
    "clust4 <- cluster_summary(cces_cluster2,clusterNo = 4) %>% rename(C4Freq=Freq,LowPartisanMod=FreqPC)\n",
    "\n",
    "clusters <- clust1 %>% full_join(clust2) %>% full_join(clust3) %>% full_join(clust4)"
   ]
  },
  {
   "cell_type": "code",
   "execution_count": 13,
   "metadata": {},
   "outputs": [
    {
     "data": {
      "text/html": [
       "<table>\n",
       "<caption>A data.frame: 4 × 10</caption>\n",
       "<thead>\n",
       "\t<tr><th></th><th scope=col>Var1</th><th scope=col>C1Freq</th><th scope=col>C1FreqPC</th><th scope=col>Question</th><th scope=col>C2Freq</th><th scope=col>C2FreqPC</th><th scope=col>C3Freq</th><th scope=col>C3FreqPC</th><th scope=col>C4Freq</th><th scope=col>C4FreqPC</th></tr>\n",
       "\t<tr><th></th><th scope=col>&lt;fct&gt;</th><th scope=col>&lt;int&gt;</th><th scope=col>&lt;dbl&gt;</th><th scope=col>&lt;chr&gt;</th><th scope=col>&lt;int&gt;</th><th scope=col>&lt;dbl&gt;</th><th scope=col>&lt;int&gt;</th><th scope=col>&lt;dbl&gt;</th><th scope=col>&lt;int&gt;</th><th scope=col>&lt;dbl&gt;</th></tr>\n",
       "</thead>\n",
       "<tbody>\n",
       "\t<tr><th scope=row>24</th><td>Support  </td><td>3406</td><td>0.8566398</td><td>borderspendingpluswall</td><td>532</td><td>0.5195312</td><td>895</td><td>0.6443485</td><td>102</td><td>0.2120582</td></tr>\n",
       "\t<tr><th scope=row>25</th><td>Oppose   </td><td> 570</td><td>0.1433602</td><td>borderspendingpluswall</td><td>492</td><td>0.4804688</td><td>494</td><td>0.3556515</td><td>379</td><td>0.7879418</td></tr>\n",
       "\t<tr><th scope=row>26</th><td>skipped  </td><td>   0</td><td>0.0000000</td><td>borderspendingpluswall</td><td>  0</td><td>0.0000000</td><td>  0</td><td>0.0000000</td><td>  0</td><td>0.0000000</td></tr>\n",
       "\t<tr><th scope=row>27</th><td>not asked</td><td>   0</td><td>0.0000000</td><td>borderspendingpluswall</td><td>  0</td><td>0.0000000</td><td>  0</td><td>0.0000000</td><td>  0</td><td>0.0000000</td></tr>\n",
       "</tbody>\n",
       "</table>\n"
      ],
      "text/latex": [
       "A data.frame: 4 × 10\n",
       "\\begin{tabular}{r|llllllllll}\n",
       "  & Var1 & C1Freq & C1FreqPC & Question & C2Freq & C2FreqPC & C3Freq & C3FreqPC & C4Freq & C4FreqPC\\\\\n",
       "  & <fct> & <int> & <dbl> & <chr> & <int> & <dbl> & <int> & <dbl> & <int> & <dbl>\\\\\n",
       "\\hline\n",
       "\t24 & Support   & 3406 & 0.8566398 & borderspendingpluswall & 532 & 0.5195312 & 895 & 0.6443485 & 102 & 0.2120582\\\\\n",
       "\t25 & Oppose    &  570 & 0.1433602 & borderspendingpluswall & 492 & 0.4804688 & 494 & 0.3556515 & 379 & 0.7879418\\\\\n",
       "\t26 & skipped   &    0 & 0.0000000 & borderspendingpluswall &   0 & 0.0000000 &   0 & 0.0000000 &   0 & 0.0000000\\\\\n",
       "\t27 & not asked &    0 & 0.0000000 & borderspendingpluswall &   0 & 0.0000000 &   0 & 0.0000000 &   0 & 0.0000000\\\\\n",
       "\\end{tabular}\n"
      ],
      "text/markdown": [
       "\n",
       "A data.frame: 4 × 10\n",
       "\n",
       "| <!--/--> | Var1 &lt;fct&gt; | C1Freq &lt;int&gt; | C1FreqPC &lt;dbl&gt; | Question &lt;chr&gt; | C2Freq &lt;int&gt; | C2FreqPC &lt;dbl&gt; | C3Freq &lt;int&gt; | C3FreqPC &lt;dbl&gt; | C4Freq &lt;int&gt; | C4FreqPC &lt;dbl&gt; |\n",
       "|---|---|---|---|---|---|---|---|---|---|---|\n",
       "| 24 | Support   | 3406 | 0.8566398 | borderspendingpluswall | 532 | 0.5195312 | 895 | 0.6443485 | 102 | 0.2120582 |\n",
       "| 25 | Oppose    |  570 | 0.1433602 | borderspendingpluswall | 492 | 0.4804688 | 494 | 0.3556515 | 379 | 0.7879418 |\n",
       "| 26 | skipped   |    0 | 0.0000000 | borderspendingpluswall |   0 | 0.0000000 |   0 | 0.0000000 |   0 | 0.0000000 |\n",
       "| 27 | not asked |    0 | 0.0000000 | borderspendingpluswall |   0 | 0.0000000 |   0 | 0.0000000 |   0 | 0.0000000 |\n",
       "\n"
      ],
      "text/plain": [
       "   Var1      C1Freq C1FreqPC  Question               C2Freq C2FreqPC  C3Freq\n",
       "24 Support   3406   0.8566398 borderspendingpluswall 532    0.5195312 895   \n",
       "25 Oppose     570   0.1433602 borderspendingpluswall 492    0.4804688 494   \n",
       "26 skipped      0   0.0000000 borderspendingpluswall   0    0.0000000   0   \n",
       "27 not asked    0   0.0000000 borderspendingpluswall   0    0.0000000   0   \n",
       "   C3FreqPC  C4Freq C4FreqPC \n",
       "24 0.6443485 102    0.2120582\n",
       "25 0.3556515 379    0.7879418\n",
       "26 0.0000000   0    0.0000000\n",
       "27 0.0000000   0    0.0000000"
      ]
     },
     "metadata": {},
     "output_type": "display_data"
    }
   ],
   "source": [
    "clusters[clusters$Question == \"borderspendingpluswall\",]"
   ]
  },
  {
   "cell_type": "markdown",
   "metadata": {},
   "source": [
    "A much better way to do this, of course, is by visualising these clusters. Let's do that. This here is an example of one of those graphs - you can check out the R file if you want to look at the code for the rest of the graphs.\n",
    "\n",
    "### 1. Political ideology"
   ]
  },
  {
   "cell_type": "code",
   "execution_count": 15,
   "metadata": {},
   "outputs": [
    {
     "ename": "ERROR",
     "evalue": "Error: Can't subset columns that don't exist.\n\u001b[31m✖\u001b[39m Column `TrueBelievers` doesn't exist.\n",
     "output_type": "error",
     "traceback": [
      "Error: Can't subset columns that don't exist.\n\u001b[31m✖\u001b[39m Column `TrueBelievers` doesn't exist.\nTraceback:\n",
      "1. clusters %>% filter(Question == \"selfideology\") %>% dplyr::select(Var1, \n .     TrueBelievers, Conservatives, SocialConservMod, LowPartisanMod) %>% \n .     rename(Answer = Var1) %>% melt(id.vars = \"Answer\") %>% rename(Cluster = variable)",
      "2. withVisible(eval(quote(`_fseq`(`_lhs`)), env, env))",
      "3. eval(quote(`_fseq`(`_lhs`)), env, env)",
      "4. eval(quote(`_fseq`(`_lhs`)), env, env)",
      "5. `_fseq`(`_lhs`)",
      "6. freduce(value, `_function_list`)",
      "7. function_list[[i]](value)",
      "8. dplyr::select(., Var1, TrueBelievers, Conservatives, SocialConservMod, \n .     LowPartisanMod)",
      "9. select.data.frame(., Var1, TrueBelievers, Conservatives, SocialConservMod, \n .     LowPartisanMod)",
      "10. tidyselect::eval_select(expr(c(...)), .data)",
      "11. eval_select_impl(data, names(data), as_quosure(expr, env), include = include, \n  .     exclude = exclude, strict = strict, name_spec = name_spec, \n  .     allow_rename = allow_rename)",
      "12. with_subscript_errors(vars_select_eval(vars, expr, strict, data = x, \n  .     name_spec = name_spec, uniquely_named = uniquely_named, allow_rename = allow_rename, \n  .     type = type), type = type)",
      "13. tryCatch(instrument_base_errors(expr), vctrs_error_subscript = function(cnd) {\n  .     cnd$subscript_action <- subscript_action(type)\n  .     cnd$subscript_elt <- \"column\"\n  .     cnd_signal(cnd)\n  . })",
      "14. tryCatchList(expr, classes, parentenv, handlers)",
      "15. tryCatchOne(expr, names, parentenv, handlers[[1L]])",
      "16. value[[3L]](cond)",
      "17. cnd_signal(cnd)",
      "18. rlang:::signal_abort(x)"
     ]
    }
   ],
   "source": [
    "clust <- clusters %>% filter(Question == \"selfideology\") %>% dplyr::select(Var1,TrueBelievers,Conservatives,SocialConservMod,\n",
    "                                                                           LowPartisanMod) %>% \n",
    "  rename(Answer = Var1)# %>% melt(id.vars=\"Answer\") %>% rename(Cluster=variable)"
   ]
  },
  {
   "cell_type": "code",
   "execution_count": 14,
   "metadata": {},
   "outputs": [
    {
     "ename": "ERROR",
     "evalue": "Error: Can't subset columns that don't exist.\n\u001b[31m✖\u001b[39m Column `TrueBelievers` doesn't exist.\n",
     "output_type": "error",
     "traceback": [
      "Error: Can't subset columns that don't exist.\n\u001b[31m✖\u001b[39m Column `TrueBelievers` doesn't exist.\nTraceback:\n",
      "1. clusters %>% filter(Question == \"selfideology\") %>% dplyr::select(Var1, \n .     TrueBelievers, Conservatives, SocialConservMod, LowPartisanMod) %>% \n .     rename(Answer = Var1) %>% melt(id.vars = \"Answer\") %>% rename(Cluster = variable)",
      "2. withVisible(eval(quote(`_fseq`(`_lhs`)), env, env))",
      "3. eval(quote(`_fseq`(`_lhs`)), env, env)",
      "4. eval(quote(`_fseq`(`_lhs`)), env, env)",
      "5. `_fseq`(`_lhs`)",
      "6. freduce(value, `_function_list`)",
      "7. function_list[[i]](value)",
      "8. dplyr::select(., Var1, TrueBelievers, Conservatives, SocialConservMod, \n .     LowPartisanMod)",
      "9. select.data.frame(., Var1, TrueBelievers, Conservatives, SocialConservMod, \n .     LowPartisanMod)",
      "10. tidyselect::eval_select(expr(c(...)), .data)",
      "11. eval_select_impl(data, names(data), as_quosure(expr, env), include = include, \n  .     exclude = exclude, strict = strict, name_spec = name_spec, \n  .     allow_rename = allow_rename)",
      "12. with_subscript_errors(vars_select_eval(vars, expr, strict, data = x, \n  .     name_spec = name_spec, uniquely_named = uniquely_named, allow_rename = allow_rename, \n  .     type = type), type = type)",
      "13. tryCatch(instrument_base_errors(expr), vctrs_error_subscript = function(cnd) {\n  .     cnd$subscript_action <- subscript_action(type)\n  .     cnd$subscript_elt <- \"column\"\n  .     cnd_signal(cnd)\n  . })",
      "14. tryCatchList(expr, classes, parentenv, handlers)",
      "15. tryCatchOne(expr, names, parentenv, handlers[[1L]])",
      "16. value[[3L]](cond)",
      "17. cnd_signal(cnd)",
      "18. rlang:::signal_abort(x)"
     ]
    }
   ],
   "source": [
    "# Self-reported ideology\n",
    "clust <- clusters %>% filter(Question == \"selfideology\") %>% dplyr::select(Var1,TrueBelievers,Conservatives,SocialConservMod,\n",
    "                                                                           LowPartisanMod) %>% \n",
    "  rename(Answer = Var1) %>% melt(id.vars=\"Answer\") %>% rename(Cluster=variable)\n",
    "library(showtext)\n",
    "ggplot(clust,aes(x=Cluster,y=value, fill = as.factor(Answer))) + geom_col(width=0.5) + coord_flip()+\n",
    "  scale_fill_manual(values = c(\"Very Liberal\" = \"#2196f3\",\"Liberal\"=\"#a1a3e9\",\"Somewhat Liberal\"=\"#d0b9df\",\n",
    "                               \"Middle of the Road\" = \"#e1d7de\",\"Somewhat Conservative\" = \"#f1a8c3\",\"Conservative\"=\"#fe7589\",\n",
    "                               \"Very Conservative\" = \"#f44336\",\"Not sure\" = \"#788385\",\"skipped\"=\"dark grey\",\n",
    "                               \"not asked\" = \"steelblue\"),\n",
    "                    name = \"Ideology\")+  scale_y_continuous(labels = scales::percent_format(accuracy=1),\n",
    "                                                            breaks = seq(0,1,0.1))+\n",
    "  theme(panel.background = element_rect(fill = \"white\"),\n",
    "        axis.line = element_line(colour = \"#c1c3c4\"),\n",
    "        text=element_text(family=\"Montserrat\"),\n",
    "        axis.text = element_text(family=\"Montserrat\"),\n",
    "        panel.grid.major = element_line(size = 0.5, linetype = 'dotted',\n",
    "                                        colour = \"#c1c3c4\"))"
   ]
  },
  {
   "cell_type": "code",
   "execution_count": null,
   "metadata": {},
   "outputs": [],
   "source": []
  }
 ],
 "metadata": {
  "kernelspec": {
   "display_name": "R",
   "language": "R",
   "name": "ir"
  },
  "language_info": {
   "codemirror_mode": "r",
   "file_extension": ".r",
   "mimetype": "text/x-r-source",
   "name": "R",
   "pygments_lexer": "r",
   "version": "4.0.3"
  }
 },
 "nbformat": 4,
 "nbformat_minor": 4
}
